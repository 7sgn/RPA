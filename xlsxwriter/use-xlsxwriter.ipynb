{
 "cells": [
  {
   "cell_type": "code",
   "execution_count": 3,
   "metadata": {},
   "outputs": [],
   "source": [
    "import xlsxwriter as opcoesDoXlsxWriter\n",
    "import os\n",
    "\n",
    "nomeCaminhoArquivo = 'C:\\\\Users\\\\Administrador\\\\Desktop\\\\rpa-com-python\\\\xlsxwriter\\\\PrimeiroExemplo.xlsx'\n",
    "\n",
    "workbook = opcoesDoXlsxWriter.Workbook(nomeCaminhoArquivo)\n",
    "\n",
    "sheetPadrao = workbook.add_worksheet()\n",
    "\n",
    "sheetPadrao.write('A1', 'Nome')\n",
    "sheetPadrao.write('B1', 'Idade')\n",
    "sheetPadrao.write('A2', 'Amanda')\n",
    "sheetPadrao.write('B2', 21)\n",
    "sheetPadrao.write('A3', 'João')\n",
    "sheetPadrao.write('B3', 29)\n",
    "\n",
    "workbook.close()\n",
    "\n",
    "os.startfile(nomeCaminhoArquivo)\n",
    "\n"
   ]
  }
 ],
 "metadata": {
  "kernelspec": {
   "display_name": "Python 3",
   "language": "python",
   "name": "python3"
  },
  "language_info": {
   "codemirror_mode": {
    "name": "ipython",
    "version": 3
   },
   "file_extension": ".py",
   "mimetype": "text/x-python",
   "name": "python",
   "nbconvert_exporter": "python",
   "pygments_lexer": "ipython3",
   "version": "3.12.6"
  }
 },
 "nbformat": 4,
 "nbformat_minor": 2
}
