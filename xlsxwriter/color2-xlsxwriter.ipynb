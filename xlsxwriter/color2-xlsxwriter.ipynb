{
 "cells": [
  {
   "cell_type": "code",
   "execution_count": 7,
   "metadata": {},
   "outputs": [],
   "source": [
    "import xlsxwriter as opcoesDoXlsxWriter\n",
    "import os\n",
    "\n",
    "nomeCaminhoArquivo = 'C:\\\\Users\\\\Administrador\\\\Desktop\\\\rpa-com-python\\\\xlsxwriter\\\\Cor-fundo.xlsx'\n",
    "\n",
    "minhaPlanilha = opcoesDoXlsxWriter.Workbook(nomeCaminhoArquivo)\n",
    "\n",
    "sheetDados = minhaPlanilha.add_worksheet('Dados')\n",
    "\n",
    "corFonte = minhaPlanilha.add_format()\n",
    "corFonte.set_font_color('blue')\n",
    "\n",
    "corFonteFundo = minhaPlanilha.add_format({'align': 'center',\n",
    "  'font_color': 'white',\n",
    "  'bold': True,\n",
    "  'bg_color' : 'gray'})\n",
    "\n",
    "sheetDados.write('A1', 'Nome', corFonteFundo)\n",
    "sheetDados.write('B1', 'Idade', corFonteFundo)\n",
    "sheetDados.write('A2', 'Amanda', corFonte)\n",
    "sheetDados.write('B2', 21, corFonte)\n",
    "sheetDados.write('A3', 'João', corFonte)\n",
    "sheetDados.write('B3', 29, corFonte)\n",
    "\n",
    "minhaPlanilha.close()\n",
    "\n",
    "os.startfile(nomeCaminhoArquivo)\n",
    "\n"
   ]
  }
 ],
 "metadata": {
  "kernelspec": {
   "display_name": "Python 3",
   "language": "python",
   "name": "python3"
  },
  "language_info": {
   "codemirror_mode": {
    "name": "ipython",
    "version": 3
   },
   "file_extension": ".py",
   "mimetype": "text/x-python",
   "name": "python",
   "nbconvert_exporter": "python",
   "pygments_lexer": "ipython3",
   "version": "3.12.6"
  }
 },
 "nbformat": 4,
 "nbformat_minor": 2
}
