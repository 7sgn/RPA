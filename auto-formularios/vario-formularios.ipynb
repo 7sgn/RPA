{
 "cells": [
  {
   "cell_type": "code",
   "execution_count": 1,
   "metadata": {},
   "outputs": [],
   "source": [
    "from openpyxl import load_workbook\n",
    "from selenium import webdriver as opcoesSelenium\n",
    "from selenium.webdriver.common.by import By\n",
    "from selenium.webdriver.support.ui import WebDriverWait\n",
    "from selenium.webdriver.support import expected_conditions as EC\n",
    "\n",
    "nomeCaminhoArquivo = 'DadosFormulario.xlsx'\n",
    "\n",
    "planilha_aberta = load_workbook(filename=nomeCaminhoArquivo)\n",
    "\n",
    "sheet_selecionada = planilha_aberta['Dados']\n",
    "\n",
    "for linha in range(2, len(sheet_selecionada['A'])+ 1):\n",
    "  nome = sheet_selecionada[f'A{linha}'].value\n",
    "  \n",
    "  email = sheet_selecionada[f'B{linha}'].value\n",
    "  \n",
    "  telefone = sheet_selecionada[f'C{linha}'].value\n",
    "  \n",
    "  sexo = sheet_selecionada[f'D{linha}'].value\n",
    "  \n",
    "  sobre = sheet_selecionada[f'E{linha}'].value\n",
    "  \n",
    "  navegadorFormulario = opcoesSelenium.Chrome()\n",
    "\n",
    "  navegadorFormulario.get('https://pt.surveymonkey.com/r/WLXYDX2')\n",
    "\n",
    "  espera = WebDriverWait(navegadorFormulario, 10)\n",
    "\n",
    "  campo_nome= espera.until(EC.presence_of_element_located((By.NAME, '166517069')))\n",
    "  campo_nome.send_keys(nome)\n",
    "\n",
    "  campo_email= espera.until(EC.presence_of_element_located((By.NAME, '166517072')))\n",
    "  campo_email.send_keys(email)\n",
    "  \n",
    "  \n",
    "  campo_telefone= espera.until(EC.presence_of_element_located((By.NAME, '166517070')))\n",
    "  campo_telefone.send_keys(telefone)\n",
    " \n",
    "  campo_sobre= espera.until(EC.presence_of_element_located((By.NAME, '166517073')))\n",
    "  campo_sobre.send_keys(sobre)\n",
    "  \n",
    "  if sexo == 'Masculino':\n",
    "    botao_masculino= espera.until(EC.element_to_be_clickable((By.ID, '166517071_1215509812_label')))\n",
    "    botao_masculino.click()\n",
    "    \n",
    "  else:\n",
    "    botao_feminino= espera.until(EC.element_to_be_clickable((By.ID, '166517071_1215509813_label')))\n",
    "    botao_feminino.click() \n",
    "  \n",
    "  botao_enviar= espera.until(EC.element_to_be_clickable((By.XPATH, '//*[@id=\"patas\"]/main/article/section/form/div[2]/button')))\n",
    "  botao_enviar.click()\n",
    "  \n",
    "  \n",
    "\n",
    "  \n"
   ]
  }
 ],
 "metadata": {
  "kernelspec": {
   "display_name": "Python 3",
   "language": "python",
   "name": "python3"
  },
  "language_info": {
   "codemirror_mode": {
    "name": "ipython",
    "version": 3
   },
   "file_extension": ".py",
   "mimetype": "text/x-python",
   "name": "python",
   "nbconvert_exporter": "python",
   "pygments_lexer": "ipython3",
   "version": "3.12.6"
  }
 },
 "nbformat": 4,
 "nbformat_minor": 2
}
