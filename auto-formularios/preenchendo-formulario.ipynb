{
 "cells": [
  {
   "cell_type": "code",
   "execution_count": 6,
   "metadata": {},
   "outputs": [],
   "source": [
    "from selenium import webdriver as opcoesSelenium\n",
    "from selenium.webdriver.common.by import By\n",
    "from selenium.webdriver.common.keys import Keys\n",
    "import pyautogui as tempoEspera\n",
    "\n",
    "navegadorFormulario = opcoesSelenium.Chrome()\n",
    "\n",
    "navegadorFormulario.get('https://pt.surveymonkey.com/r/WLXYDX2')\n",
    "\n",
    "tempoEspera.sleep(5)\n",
    "\n",
    "nome= navegadorFormulario.find_element(By.NAME, '166517069')\n",
    "\n",
    "tempoEspera.sleep(2)\n",
    "\n",
    "nome.send_keys('Marlon Sette')\n",
    "\n",
    "tempoEspera.sleep(2)\n",
    "\n",
    "email = navegadorFormulario.find_element(By.NAME, '166517072')\n",
    "\n",
    "email.send_keys('marlon.sette@gmail.com')\n",
    "\n",
    "tempoEspera.sleep(2)\n",
    "\n",
    "telefone = navegadorFormulario.find_element(By.NAME, '166517070')\n",
    "\n",
    "telefone.send_keys('99999-9999')\n",
    "\n",
    "tempoEspera.sleep(2)\n",
    "\n",
    "sobre = navegadorFormulario.find_element(By.NAME, '166517073')\n",
    "\n",
    "sobre.send_keys('Sei automatizar processos e planilhas em python')\n",
    "\n",
    "tempoEspera.sleep(2)\n",
    "\n",
    "radio_button = navegadorFormulario.find_element(By.ID, '166517071_1215509812_label')\n",
    "\n",
    "tempoEspera.sleep(2)\n",
    "\n",
    "radio_button.click()\n",
    "\n",
    "tempoEspera.sleep(5)\n",
    "\n",
    "enviar = navegadorFormulario.find_element(By.XPATH, '//*[@id=\"patas\"]/main/article/section/form/div[2]/button')\n",
    "\n",
    "tempoEspera.sleep(2)\n",
    "\n",
    "enviar.click()\n"
   ]
  }
 ],
 "metadata": {
  "kernelspec": {
   "display_name": "Python 3",
   "language": "python",
   "name": "python3"
  },
  "language_info": {
   "codemirror_mode": {
    "name": "ipython",
    "version": 3
   },
   "file_extension": ".py",
   "mimetype": "text/x-python",
   "name": "python",
   "nbconvert_exporter": "python",
   "pygments_lexer": "ipython3",
   "version": "3.12.6"
  }
 },
 "nbformat": 4,
 "nbformat_minor": 2
}
