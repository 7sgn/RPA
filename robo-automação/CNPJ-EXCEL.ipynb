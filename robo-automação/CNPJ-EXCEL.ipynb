{
 "cells": [
  {
   "cell_type": "code",
   "execution_count": 9,
   "metadata": {},
   "outputs": [
    {
     "name": "stdout",
     "output_type": "stream",
     "text": [
      "Empresa decodificada: {'atividade_principal': [{'code': '82.99-7-02', 'text': 'Emissão de vales-alimentação, vales-transporte e similares'}], 'data_situacao': '27/03/2019', 'complemento': 'BLOCO B ANDAR 3 PARTE', 'tipo': 'MATRIZ', 'nome': 'IFOOD BENEFICIOS E SERVICOS LTDA.', 'telefone': '(11) 3634-3360', 'email': 'juridico@ifood.com.br', 'atividades_secundarias': [{'code': '64.62-0-00', 'text': 'Holdings de instituições não-financeiras'}, {'code': '74.90-1-04', 'text': 'Atividades de intermediação e agenciamento de serviços e negócios em geral, exceto imobiliários'}, {'code': '82.99-7-99', 'text': 'Outras atividades de serviços prestados principalmente às empresas não especificadas anteriormente'}], 'qsa': [{'nome': 'FLAVIO DE FREITAS STECCA', 'qual': '05-Administrador'}, {'nome': 'LUCAS MARINI PITTIONI', 'qual': '05-Administrador'}, {'nome': 'GUSTAVO CARVALHO MENDES', 'qual': '05-Administrador'}, {'nome': 'IFOOD PARTICIPACOES LTDA.', 'qual': '22-Sócio', 'nome_rep_legal': 'DIEGO CARNEIRO BARRETO', 'qual_rep_legal': '17-Procurador'}, {'nome': 'DIEGO CARNEIRO BARRETO', 'qual': '05-Administrador'}], 'situacao': 'ATIVA', 'bairro': 'VILA YARA', 'logradouro': 'AV DOS AUTONOMISTAS 1496', 'numero': '1.496', 'cep': '06.020-902', 'municipio': 'OSASCO', 'uf': 'SP', 'porte': 'DEMAIS', 'abertura': '27/03/2019', 'natureza_juridica': '206-2 - Sociedade Empresária Limitada', 'cnpj': '33.157.312/0001-62', 'ultima_atualizacao': '2025-01-01T04:14:44.262Z', 'status': 'OK', 'fantasia': '', 'efr': '', 'motivo_situacao': '', 'situacao_especial': '', 'data_situacao_especial': '', 'capital_social': '453351000.00', 'simples': {'optante': False, 'data_opcao': None, 'data_exclusao': None, 'ultima_atualizacao': '2024-12-14T23:59:59.000Z'}, 'simei': {'optante': False, 'data_opcao': None, 'data_exclusao': None, 'ultima_atualizacao': '2024-12-14T23:59:59.000Z'}, 'extra': {}, 'billing': {'free': True, 'database': True}}\n",
      "Dados da empresa salvos com sucesso no arquivo dados_empresa.xlsx\n"
     ]
    }
   ],
   "source": [
    "import http.client\n",
    "import json\n",
    "import pandas as pd\n",
    "\n",
    "\n",
    "\n",
    "def obter_dados_empresa_por_cnpj(cnpj):\n",
    "\n",
    "    conexao = http.client.HTTPSConnection('www.receitaws.com.br')\n",
    "    \n",
    "    conexao.request('GET', f'/v1/cnpj/{cnpj}')\n",
    "    \n",
    "    resposta = conexao.getresponse()\n",
    "    \n",
    "    if resposta.status != 200:\n",
    "        \n",
    "        return{'Status': 'ERROR', 'Message': f'Resposta HTTP com status {resposta.status} '}\n",
    "    else:\n",
    "        dados = resposta.read()\n",
    "    \n",
    "        empresa = json.loads(dados.decode('utf-8'))\n",
    "    \n",
    "        conexao.close()\n",
    "        \n",
    "        try:\n",
    "          \n",
    "            empresa = json.loads(dados.decode('utf-8'))\n",
    "            \n",
    "            print(f'Empresa decodificada: {empresa}')\n",
    "            \n",
    "            return empresa\n",
    "          \n",
    "          \n",
    "        except json.JSONDecodeError as e:\n",
    "          \n",
    "            print(f'Erro na decodificação do JSON: {str(e)}')\n",
    "            \n",
    "            return {'status': 'ERROR', 'Message': 'Erro na decodificação do JSON'}\n",
    "          \n",
    "def salvar_dados_empresa_excel(dados_empresa, nome_arquivo='dados_empresa.xlsx'):\n",
    "\n",
    "    if dados_empresa.get('status') != 'ERROR':\n",
    "      \n",
    "        dados_empresa = tratar_dados_aninhados(dados_empresa)\n",
    "        \n",
    "        df = pd.DataFrame([dados_empresa])\n",
    "        \n",
    "        df.to_excel(nome_arquivo, index=False)\n",
    "        \n",
    "        print(f'Dados da empresa salvos com sucesso no arquivo {nome_arquivo}')\n",
    "    \n",
    "    else:\n",
    "      \n",
    "        print(f'Não há dados válidos para salvar. Mensagem de erro: {dados_empresa.get('message')}')    \n",
    "    \n",
    "def tratar_dados_aninhados(dados):\n",
    "  \n",
    "    if 'atividade_principal' in dados:\n",
    "        dados['atividade_principal'] = ';'.join([ativ['text'] for ativ in dados['atividade_principal']])\n",
    "    if 'atividades_secundarias' in dados:\n",
    "        dados['atividades_secundarias'] = ';'.join([ativ['text'] for ativ in dados['atividades_secundarias']])\n",
    "    if 'qsa' in dados:\n",
    "        dados['qsa'] = ';'.join([f\"{q['nome']} ({q.get('qual', '')})\" for q in dados['qsa']])\n",
    "    if 'billing' in dados:\n",
    "        dados['billing'] = str(dados['billing'])\n",
    "    if 'extra' in dados:\n",
    "        dados['extra'] = str(dados['extra'])\n",
    "        \n",
    "    return dados\n",
    "    \n",
    "\n",
    "cnpj_exemplo = '33157312000162'\n",
    "\n",
    "dados_empresa = obter_dados_empresa_por_cnpj(cnpj_exemplo)\n",
    "salvar_dados_empresa_excel(dados_empresa)"
   ]
  },
  {
   "cell_type": "code",
   "execution_count": 1,
   "metadata": {},
   "outputs": [
    {
     "name": "stdout",
     "output_type": "stream",
     "text": [
      "Defaulting to user installation because normal site-packages is not writeable\n",
      "Requirement already satisfied: pandas in c:\\users\\administrador\\appdata\\roaming\\python\\python312\\site-packages (2.2.3)\n",
      "Requirement already satisfied: numpy>=1.26.0 in c:\\users\\administrador\\appdata\\roaming\\python\\python312\\site-packages (from pandas) (2.2.1)\n",
      "Requirement already satisfied: python-dateutil>=2.8.2 in c:\\users\\administrador\\appdata\\roaming\\python\\python312\\site-packages (from pandas) (2.9.0.post0)\n",
      "Requirement already satisfied: pytz>=2020.1 in c:\\users\\administrador\\appdata\\roaming\\python\\python312\\site-packages (from pandas) (2024.2)\n",
      "Requirement already satisfied: tzdata>=2022.7 in c:\\users\\administrador\\appdata\\roaming\\python\\python312\\site-packages (from pandas) (2024.2)\n",
      "Requirement already satisfied: six>=1.5 in c:\\users\\administrador\\appdata\\roaming\\python\\python312\\site-packages (from python-dateutil>=2.8.2->pandas) (1.17.0)\n",
      "Note: you may need to restart the kernel to use updated packages.\n"
     ]
    },
    {
     "name": "stderr",
     "output_type": "stream",
     "text": [
      "\n",
      "[notice] A new release of pip is available: 24.2 -> 24.3.1\n",
      "[notice] To update, run: python.exe -m pip install --upgrade pip\n"
     ]
    }
   ],
   "source": [
    "%pip install pandas\n"
   ]
  }
 ],
 "metadata": {
  "kernelspec": {
   "display_name": "Python 3",
   "language": "python",
   "name": "python3"
  },
  "language_info": {
   "codemirror_mode": {
    "name": "ipython",
    "version": 3
   },
   "file_extension": ".py",
   "mimetype": "text/x-python",
   "name": "python",
   "nbconvert_exporter": "python",
   "pygments_lexer": "ipython3",
   "version": "3.12.6"
  }
 },
 "nbformat": 4,
 "nbformat_minor": 2
}
