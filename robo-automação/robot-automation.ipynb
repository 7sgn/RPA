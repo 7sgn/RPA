{
 "cells": [
  {
   "cell_type": "code",
   "execution_count": 8,
   "metadata": {},
   "outputs": [
    {
     "name": "stdout",
     "output_type": "stream",
     "text": [
      "Defaulting to user installation because normal site-packages is not writeable\n",
      "Requirement already satisfied: pyautogui in c:\\users\\administrador\\appdata\\roaming\\python\\python312\\site-packages (0.9.54)\n",
      "Requirement already satisfied: pymsgbox in c:\\users\\administrador\\appdata\\roaming\\python\\python312\\site-packages (from pyautogui) (1.0.9)\n",
      "Requirement already satisfied: pytweening>=1.0.4 in c:\\users\\administrador\\appdata\\roaming\\python\\python312\\site-packages (from pyautogui) (1.2.0)\n",
      "Requirement already satisfied: pyscreeze>=0.1.21 in c:\\users\\administrador\\appdata\\roaming\\python\\python312\\site-packages (from pyautogui) (1.0.1)\n",
      "Requirement already satisfied: pygetwindow>=0.0.5 in c:\\users\\administrador\\appdata\\roaming\\python\\python312\\site-packages (from pyautogui) (0.0.9)\n",
      "Requirement already satisfied: mouseinfo in c:\\users\\administrador\\appdata\\roaming\\python\\python312\\site-packages (from pyautogui) (0.1.3)\n",
      "Requirement already satisfied: pyrect in c:\\users\\administrador\\appdata\\roaming\\python\\python312\\site-packages (from pygetwindow>=0.0.5->pyautogui) (0.2.0)\n",
      "Requirement already satisfied: pyperclip in c:\\users\\administrador\\appdata\\roaming\\python\\python312\\site-packages (from mouseinfo->pyautogui) (1.9.0)\n",
      "Note: you may need to restart the kernel to use updated packages.\n"
     ]
    },
    {
     "name": "stderr",
     "output_type": "stream",
     "text": [
      "\n",
      "[notice] A new release of pip is available: 24.2 -> 24.3.1\n",
      "[notice] To update, run: python.exe -m pip install --upgrade pip\n"
     ]
    }
   ],
   "source": [
    "%pip install pyautogui\n",
    "\n",
    "import pyautogui as posicaoMouse\n",
    "\n",
    "posicaoMouse.sleep(4)\n",
    "\n",
    "# print(posicaoMouse.position())\n",
    "\n",
    "posicaoMouse.moveTo(x=20, y=1001)\n",
    "posicaoMouse.click(x=20, y=1001)\n",
    "\n",
    "\n"
   ]
  },
  {
   "cell_type": "code",
   "execution_count": 1,
   "metadata": {},
   "outputs": [],
   "source": [
    "import pyautogui as posicaoGoogle\n",
    "\n",
    "posicaoGoogle.sleep(4)\n",
    "\n",
    "#print(posicaoGoogle.position())\n",
    "\n",
    "posicaoGoogle.doubleClick(x=43, y=620)\n",
    "posicaoGoogle.sleep(6)\n",
    "posicaoGoogle.typewrite('https://www.google.com.br/')\n",
    "posicaoGoogle.sleep(3)\n",
    "posicaoGoogle.press('enter')\n",
    "posicaoGoogle.sleep(4)\n",
    "posicaoGoogle.typewrite('Dolar hoje')\n",
    "posicaoGoogle.sleep(4)\n",
    "posicaoGoogle.moveTo(x=752, y=601)\n",
    "posicaoGoogle.press('enter')\n",
    "\n",
    "\n",
    "\n"
   ]
  },
  {
   "cell_type": "code",
   "execution_count": 12,
   "metadata": {},
   "outputs": [
    {
     "name": "stdout",
     "output_type": "stream",
     "text": [
      "Point(x=565, y=419)\n"
     ]
    }
   ],
   "source": [
    "import pyautogui as posicaoArquivos\n",
    "\n",
    "\n",
    "posicaoArquivos.sleep(4)\n",
    "print(posicaoGoogle.position())\n",
    "\n",
    "posicaoArquivos.hotkey('win', 'r')\n",
    "posicaoArquivos.sleep(2)\n",
    "posicaoArquivos.typewrite('notepad')\n",
    "posicaoArquivos.press('enter')\n",
    "posicaoArquivos.sleep(3)\n",
    "posicaoArquivos.typewrite('Te amo s2')\n",
    "posicaoArquivos.sleep(3)\n",
    "fecharJanelaNotepad = posicaoArquivos.getActiveWindow()\n",
    "posicaoArquivos.sleep(2)\n",
    "fecharJanelaNotepad.close()\n",
    "posicaoArquivos.sleep(2)\n",
    "posicaoArquivos.press('tab')\n",
    "posicaoArquivos.sleep(2)\n",
    "posicaoArquivos.press('enter')\n",
    "\n"
   ]
  }
 ],
 "metadata": {
  "kernelspec": {
   "display_name": "Python 3",
   "language": "python",
   "name": "python3"
  },
  "language_info": {
   "codemirror_mode": {
    "name": "ipython",
    "version": 3
   },
   "file_extension": ".py",
   "mimetype": "text/x-python",
   "name": "python",
   "nbconvert_exporter": "python",
   "pygments_lexer": "ipython3",
   "version": "3.12.6"
  }
 },
 "nbformat": 4,
 "nbformat_minor": 2
}
