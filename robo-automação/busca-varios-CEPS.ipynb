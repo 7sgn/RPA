{
 "cells": [
  {
   "cell_type": "code",
   "execution_count": 1,
   "metadata": {},
   "outputs": [
    {
     "name": "stdout",
     "output_type": "stream",
     "text": [
      "Endereços salvos na aba Dados\n"
     ]
    }
   ],
   "source": [
    "import http.client\n",
    "import json\n",
    "import pandas as pd\n",
    "\n",
    "def obter_endereco_por_cep(cep):\n",
    "\n",
    "      conexao = http.client.HTTPSConnection('viacep.com.br')\n",
    "      conexao.request('GET', f'/ws/{cep}/json/')\n",
    "      \n",
    "      resposta = conexao.getresponse()\n",
    "      \n",
    "      if resposta.status != 200:\n",
    "        \n",
    "        conexao.close()\n",
    "        \n",
    "        return None\n",
    "      \n",
    "      dados = resposta.read()\n",
    "      \n",
    "      endereco = json.loads(dados.decode('utf-8'))\n",
    "      \n",
    "      conexao.close\n",
    "      \n",
    "      return endereco if 'erro' not in endereco else None\n",
    "      \n",
    "\n",
    "caminho_planilha = 'CEP.xlsx' \n",
    "\n",
    "planilha_ceps = pd.read_excel(caminho_planilha, sheet_name='cep')\n",
    "\n",
    "ceps = planilha_ceps['CEP'].dropna()\n",
    "\n",
    "resultados = pd.DataFrame(columns=['CEP', 'Logradouro', 'Bairro', 'localidade', 'UF'])\n",
    "\n",
    "for cep in ceps:\n",
    "  \n",
    "  endereco = obter_endereco_por_cep(str(cep).replace('-', ''))\n",
    "  \n",
    "  if endereco:\n",
    "    \n",
    "      nova_linha = pd.DataFrame([{\n",
    "          'CEP': cep,\n",
    "          'Logradouro':\n",
    "            endereco.get('logradouro', ''),\n",
    "          'Bairro': endereco.get('bairro', ''),\n",
    "          'Localidade': endereco.get('localidade', ''),\n",
    "          'UF': endereco.get('uf', '')\n",
    "          \n",
    "      }])\n",
    "      \n",
    "      resultados = pd.concat([resultados, nova_linha], ignore_index=True)\n",
    "      \n",
    "with pd.ExcelWriter(caminho_planilha, engine='openpyxl', mode='a', if_sheet_exists='replace') as writer:\n",
    "  \n",
    "    resultados.to_excel(writer, sheet_name='Dados', index=False)\n",
    "    \n",
    "print('Endereços salvos na aba Dados')\n",
    "\n",
    "\n",
    "\n",
    "\n",
    "\n"
   ]
  }
 ],
 "metadata": {
  "kernelspec": {
   "display_name": "Python 3",
   "language": "python",
   "name": "python3"
  },
  "language_info": {
   "codemirror_mode": {
    "name": "ipython",
    "version": 3
   },
   "file_extension": ".py",
   "mimetype": "text/x-python",
   "name": "python",
   "nbconvert_exporter": "python",
   "pygments_lexer": "ipython3",
   "version": "3.12.6"
  }
 },
 "nbformat": 4,
 "nbformat_minor": 2
}
