{
 "cells": [
  {
   "cell_type": "code",
   "execution_count": 1,
   "metadata": {},
   "outputs": [
    {
     "name": "stdout",
     "output_type": "stream",
     "text": [
      "Defaulting to user installation because normal site-packages is not writeable\n",
      "Requirement already satisfied: selenium in c:\\users\\administrador\\appdata\\roaming\\python\\python312\\site-packages (4.27.1)\n",
      "Requirement already satisfied: urllib3<3,>=1.26 in c:\\users\\administrador\\appdata\\roaming\\python\\python312\\site-packages (from urllib3[socks]<3,>=1.26->selenium) (2.3.0)\n",
      "Requirement already satisfied: trio~=0.17 in c:\\users\\administrador\\appdata\\roaming\\python\\python312\\site-packages (from selenium) (0.28.0)\n",
      "Requirement already satisfied: trio-websocket~=0.9 in c:\\users\\administrador\\appdata\\roaming\\python\\python312\\site-packages (from selenium) (0.11.1)\n",
      "Requirement already satisfied: certifi>=2021.10.8 in c:\\users\\administrador\\appdata\\roaming\\python\\python312\\site-packages (from selenium) (2024.12.14)\n",
      "Requirement already satisfied: typing_extensions~=4.9 in c:\\users\\administrador\\appdata\\roaming\\python\\python312\\site-packages (from selenium) (4.12.2)\n",
      "Requirement already satisfied: websocket-client~=1.8 in c:\\users\\administrador\\appdata\\roaming\\python\\python312\\site-packages (from selenium) (1.8.0)\n",
      "Requirement already satisfied: attrs>=23.2.0 in c:\\users\\administrador\\appdata\\roaming\\python\\python312\\site-packages (from trio~=0.17->selenium) (24.3.0)\n",
      "Requirement already satisfied: sortedcontainers in c:\\users\\administrador\\appdata\\roaming\\python\\python312\\site-packages (from trio~=0.17->selenium) (2.4.0)\n",
      "Requirement already satisfied: idna in c:\\users\\administrador\\appdata\\roaming\\python\\python312\\site-packages (from trio~=0.17->selenium) (3.10)\n",
      "Requirement already satisfied: outcome in c:\\users\\administrador\\appdata\\roaming\\python\\python312\\site-packages (from trio~=0.17->selenium) (1.3.0.post0)\n",
      "Requirement already satisfied: sniffio>=1.3.0 in c:\\users\\administrador\\appdata\\roaming\\python\\python312\\site-packages (from trio~=0.17->selenium) (1.3.1)\n",
      "Requirement already satisfied: cffi>=1.14 in c:\\users\\administrador\\appdata\\roaming\\python\\python312\\site-packages (from trio~=0.17->selenium) (1.17.1)\n",
      "Requirement already satisfied: wsproto>=0.14 in c:\\users\\administrador\\appdata\\roaming\\python\\python312\\site-packages (from trio-websocket~=0.9->selenium) (1.2.0)\n",
      "Requirement already satisfied: pysocks!=1.5.7,<2.0,>=1.5.6 in c:\\users\\administrador\\appdata\\roaming\\python\\python312\\site-packages (from urllib3[socks]<3,>=1.26->selenium) (1.7.1)\n",
      "Requirement already satisfied: pycparser in c:\\users\\administrador\\appdata\\roaming\\python\\python312\\site-packages (from cffi>=1.14->trio~=0.17->selenium) (2.22)\n",
      "Requirement already satisfied: h11<1,>=0.9.0 in c:\\users\\administrador\\appdata\\roaming\\python\\python312\\site-packages (from wsproto>=0.14->trio-websocket~=0.9->selenium) (0.14.0)\n",
      "Note: you may need to restart the kernel to use updated packages.\n"
     ]
    },
    {
     "name": "stderr",
     "output_type": "stream",
     "text": [
      "\n",
      "[notice] A new release of pip is available: 24.2 -> 24.3.1\n",
      "[notice] To update, run: python.exe -m pip install --upgrade pip\n"
     ]
    }
   ],
   "source": [
    "%pip install selenium\n",
    "\n",
    "from selenium import webdriver\n",
    "\n",
    "abrirNavegador = webdriver.Chrome()\n",
    "\n",
    "abrirNavegador.get('https://www.google.com.br')\n",
    "\n",
    "\n",
    "\n",
    "\n"
   ]
  },
  {
   "cell_type": "code",
   "execution_count": 24,
   "metadata": {},
   "outputs": [
    {
     "name": "stdout",
     "output_type": "stream",
     "text": [
      "Valor do dólar hoje: 6,110\n",
      "Valor do euro hoje: 6,256\n"
     ]
    }
   ],
   "source": [
    "from selenium import webdriver as opcoes_selenium_aula\n",
    "from selenium.webdriver.common.keys import Keys\n",
    "import pyautogui as tempoPausaComputador\n",
    "import pyautogui as teclasDeAtalho\n",
    "\n",
    "from selenium.webdriver.common.by import By\n",
    "\n",
    "meuNavegador = opcoes_selenium_aula.Chrome()\n",
    "meuNavegador.get('https://www.google.com')\n",
    "\n",
    "tempoPausaComputador.sleep(3)\n",
    "\n",
    "meuNavegador.find_element(By.NAME, 'q').send_keys('Dolar hoje')\n",
    "\n",
    "tempoPausaComputador.sleep(3)\n",
    "\n",
    "meuNavegador.find_element(By.NAME, 'q').send_keys(Keys.RETURN)\n",
    "\n",
    "tempoPausaComputador.sleep(3)\n",
    "\n",
    "meuNavegador.get('https://wise.com/br/currency-converter/dolar-hoje')\n",
    "\n",
    "valorDolarPeloGoogle = meuNavegador.find_elements(By.XPATH, '//*[@id=\"calculator\"]/div[1]/div[2]/div/div/div[2]/div[1]/h3/span[2]/span')[0].text\n",
    "\n",
    "print(f'Valor do dólar hoje: {valorDolarPeloGoogle}')\n",
    "\n",
    "tempoPausaComputador.sleep(3)\n",
    "\n",
    "meuNavegador.back()\n",
    "\n",
    "tempoPausaComputador.sleep(3)\n",
    "\n",
    "meuNavegador.find_element(By.NAME, 'q').send_keys('')\n",
    "\n",
    "teclasDeAtalho.press('tab')\n",
    "\n",
    "teclasDeAtalho.press('enter')\n",
    "\n",
    "tempoPausaComputador.sleep(3)\n",
    "\n",
    "meuNavegador.find_element(By.NAME, 'q').send_keys('Euro hoje')\n",
    "\n",
    "tempoPausaComputador.sleep(3)\n",
    "\n",
    "teclasDeAtalho.press('enter')\n",
    "\n",
    "tempoPausaComputador.sleep(3)\n",
    "\n",
    "meuNavegador.get('https://wise.com/br/currency-converter/euro-hoje')\n",
    "\n",
    "tempoPausaComputador.sleep(3)\n",
    "\n",
    "valorEuroPeloGoogle = meuNavegador.find_elements(By.XPATH, '//*[@id=\"calculator\"]/div[1]/div[2]/div/div/div[2]/div[1]/h3/span[2]/span')[0].text\n",
    "\n",
    "print(f'Valor do euro hoje: {valorEuroPeloGoogle}')\n",
    "\n",
    "\n",
    "\n",
    "\n",
    "\n",
    "\n",
    "\n",
    "\n",
    "\n",
    "\n",
    "\n",
    "\n",
    "\n"
   ]
  }
 ],
 "metadata": {
  "kernelspec": {
   "display_name": "Python 3",
   "language": "python",
   "name": "python3"
  },
  "language_info": {
   "codemirror_mode": {
    "name": "ipython",
    "version": 3
   },
   "file_extension": ".py",
   "mimetype": "text/x-python",
   "name": "python",
   "nbconvert_exporter": "python",
   "pygments_lexer": "ipython3",
   "version": "3.12.6"
  }
 },
 "nbformat": 4,
 "nbformat_minor": 2
}
