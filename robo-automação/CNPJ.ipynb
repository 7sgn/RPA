{
 "cells": [
  {
   "cell_type": "code",
   "execution_count": 3,
   "metadata": {},
   "outputs": [
    {
     "name": "stdout",
     "output_type": "stream",
     "text": [
      "{'atividade_principal': [{'code': '82.99-7-02', 'text': 'Emissão de vales-alimentação, vales-transporte e similares'}], 'data_situacao': '27/03/2019', 'complemento': 'BLOCO B ANDAR 3 PARTE', 'tipo': 'MATRIZ', 'nome': 'IFOOD BENEFICIOS E SERVICOS LTDA.', 'telefone': '(11) 3634-3360', 'email': 'juridico@ifood.com.br', 'atividades_secundarias': [{'code': '64.62-0-00', 'text': 'Holdings de instituições não-financeiras'}, {'code': '74.90-1-04', 'text': 'Atividades de intermediação e agenciamento de serviços e negócios em geral, exceto imobiliários'}, {'code': '82.99-7-99', 'text': 'Outras atividades de serviços prestados principalmente às empresas não especificadas anteriormente'}], 'qsa': [{'nome': 'FLAVIO DE FREITAS STECCA', 'qual': '05-Administrador'}, {'nome': 'LUCAS MARINI PITTIONI', 'qual': '05-Administrador'}, {'nome': 'GUSTAVO CARVALHO MENDES', 'qual': '05-Administrador'}, {'nome': 'IFOOD PARTICIPACOES LTDA.', 'qual': '22-Sócio', 'nome_rep_legal': 'DIEGO CARNEIRO BARRETO', 'qual_rep_legal': '17-Procurador'}, {'nome': 'DIEGO CARNEIRO BARRETO', 'qual': '05-Administrador'}], 'situacao': 'ATIVA', 'bairro': 'VILA YARA', 'logradouro': 'AV DOS AUTONOMISTAS 1496', 'numero': '1.496', 'cep': '06.020-902', 'municipio': 'OSASCO', 'uf': 'SP', 'porte': 'DEMAIS', 'abertura': '27/03/2019', 'natureza_juridica': '206-2 - Sociedade Empresária Limitada', 'cnpj': '33.157.312/0001-62', 'ultima_atualizacao': '2025-01-01T04:14:44.262Z', 'status': 'OK', 'fantasia': '', 'efr': '', 'motivo_situacao': '', 'situacao_especial': '', 'data_situacao_especial': '', 'capital_social': '453351000.00', 'simples': {'optante': False, 'data_opcao': None, 'data_exclusao': None, 'ultima_atualizacao': '2024-12-14T23:59:59.000Z'}, 'simei': {'optante': False, 'data_opcao': None, 'data_exclusao': None, 'ultima_atualizacao': '2024-12-14T23:59:59.000Z'}, 'extra': {}, 'billing': {'free': True, 'database': True}}\n"
     ]
    }
   ],
   "source": [
    "import http.client\n",
    "import json\n",
    "\n",
    "def obter_dados_empresa_por_cnpj(cnpj):\n",
    "\n",
    "    conexao = http.client.HTTPSConnection('www.receitaws.com.br')\n",
    "    \n",
    "    conexao.request('GET', f'/v1/cnpj/{cnpj}')\n",
    "    \n",
    "    resposta = conexao.getresponse()\n",
    "    \n",
    "    dados = resposta.read()\n",
    "    \n",
    "    empresa = json.loads(dados.decode('utf-8'))\n",
    "    \n",
    "    conexao.close()\n",
    "    \n",
    "    if empresa.get('status', '') == 'ERROR':\n",
    "      \n",
    "      return empresa.get('message', 'Erro deconhecido')\n",
    "    else:\n",
    "      \n",
    "      return empresa\n",
    "\n",
    "\n",
    "\n",
    "\n",
    "cnpj_exemplo = '33157312000162'\n",
    "\n",
    "dados_empresa = obter_dados_empresa_por_cnpj(cnpj_exemplo)\n",
    "print(dados_empresa)"
   ]
  }
 ],
 "metadata": {
  "kernelspec": {
   "display_name": "Python 3",
   "language": "python",
   "name": "python3"
  },
  "language_info": {
   "codemirror_mode": {
    "name": "ipython",
    "version": 3
   },
   "file_extension": ".py",
   "mimetype": "text/x-python",
   "name": "python",
   "nbconvert_exporter": "python",
   "pygments_lexer": "ipython3",
   "version": "3.12.6"
  }
 },
 "nbformat": 4,
 "nbformat_minor": 2
}
