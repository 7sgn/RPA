{
 "cells": [
  {
   "cell_type": "code",
   "execution_count": 11,
   "metadata": {},
   "outputs": [
    {
     "name": "stdout",
     "output_type": "stream",
     "text": [
      "{'cep': '01001-000', 'logradouro': 'Praça da Sé', 'complemento': 'lado ímpar', 'unidade': '', 'bairro': 'Sé', 'localidade': 'São Paulo', 'uf': 'SP', 'estado': 'São Paulo', 'regiao': 'Sudeste', 'ibge': '3550308', 'gia': '1004', 'ddd': '11', 'siafi': '7107'}\n"
     ]
    }
   ],
   "source": [
    "import http.client\n",
    "import json\n",
    "\n",
    "def obter_endereço_por_cep(cep):\n",
    "  \n",
    "    conexao = http.client.HTTPSConnection('viacep.com.br')\n",
    "    conexao.request('GET', f'/ws/{cep}/json/')\n",
    "    \n",
    "    resposta = conexao.getresponse()\n",
    "    \n",
    "    dados = resposta.read()\n",
    "    \n",
    "    endereco = json.loads(dados.decode('utf-8'))\n",
    "    \n",
    "    conexao.close()\n",
    "    \n",
    "    if 'erro' not in endereco:\n",
    "      \n",
    "      return endereco\n",
    "    \n",
    "    else:\n",
    "      \n",
    "      return 'CEP não encontrado'\n",
    "    \n",
    "    \n",
    "cep_exemplo = '01001000'\n",
    "endereco_resultado = obter_endereço_por_cep(cep_exemplo)\n",
    "\n",
    "print(endereco_resultado)"
   ]
  },
  {
   "cell_type": "code",
   "execution_count": 12,
   "metadata": {},
   "outputs": [
    {
     "name": "stdout",
     "output_type": "stream",
     "text": [
      "Dados salvos com sucesso no arquivo endereco.xlsx\n"
     ]
    }
   ],
   "source": [
    "import http.client\n",
    "import json\n",
    "import pandas as pd\n",
    "\n",
    "\n",
    "def obter_cep_por_cep(cep):\n",
    "    conexao = http.client.HTTPSConnection('viacep.com.br')\n",
    "    conexao.request('GET', f'/ws/{cep}/json/')\n",
    "    resposta = conexao.getresponse()\n",
    "    dados = resposta.read()\n",
    "    endereco = json.loads(dados.decode('utf-8'))\n",
    "    return endereco\n",
    "  \n",
    "def salvar_endereco_excel(endereco, nome_arquivo='endereco.xlsx'):\n",
    "      if 'erro' not in endereco:\n",
    "        df = pd.DataFrame([endereco])\n",
    "        df.to_excel(nome_arquivo, index=False)\n",
    "        \n",
    "        print(f'Dados salvos com sucesso no arquivo {nome_arquivo}')\n",
    "      else:\n",
    "        print('Não foi possível slavar os dados: CEP não encontrado')\n",
    "          \n",
    "      \n",
    "        \n",
    "    \n",
    "    \n",
    "cep_exemplo = '01001000'\n",
    "\n",
    "endereco_resultado = obter_endereço_por_cep(cep_exemplo)\n",
    "\n",
    "salvar_endereco_excel(endereco_resultado)\n"
   ]
  }
 ],
 "metadata": {
  "kernelspec": {
   "display_name": "Python 3",
   "language": "python",
   "name": "python3"
  },
  "language_info": {
   "codemirror_mode": {
    "name": "ipython",
    "version": 3
   },
   "file_extension": ".py",
   "mimetype": "text/x-python",
   "name": "python",
   "nbconvert_exporter": "python",
   "pygments_lexer": "ipython3",
   "version": "3.12.6"
  }
 },
 "nbformat": 4,
 "nbformat_minor": 2
}
